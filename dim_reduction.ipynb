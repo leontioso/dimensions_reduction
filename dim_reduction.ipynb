{
 "cells": [
  {
   "cell_type": "code",
   "execution_count": 1,
   "metadata": {},
   "outputs": [],
   "source": [
    "from sklearn.decomposition import PCA\n",
    "from sklearn.metrics import accuracy_score, balanced_accuracy_score, f1_score, precision_score, make_scorer\n",
    "\n",
    "from sklearn.feature_selection import SequentialFeatureSelector, SelectFromModel\n",
    "\n",
    "import matplotlib.pyplot as plt\n",
    "from sklearn.svm import SVC\n",
    "import pandas as pd\n",
    "import numpy as np\n",
    "from time import time\n",
    "from copy import deepcopy\n",
    "\n"
   ]
  },
  {
   "cell_type": "code",
   "execution_count": 2,
   "metadata": {},
   "outputs": [],
   "source": [
    "# load features labels\n",
    "with open('human+activity+recognition+using+smartphones/UCI HAR Dataset/features.txt') as file:\n",
    "    features_labels = [line.strip().split()[1] for line in file.readlines()]\n",
    "\n",
    "# load target class labels\n",
    "with open('human+activity+recognition+using+smartphones/UCI HAR Dataset/activity_labels.txt') as file:\n",
    "    target_class_labels = [line.strip().split()[1] for line in file.readlines()]\n",
    "\n",
    "# Load the train set from txt files\n",
    "X_train_file_path = 'human+activity+recognition+using+smartphones/UCI HAR Dataset/train/X_train.txt'\n",
    "y_train_file_path = 'human+activity+recognition+using+smartphones/UCI HAR Dataset/train/y_train.txt'\n",
    "X_train = pd.read_csv(X_train_file_path, header=None, delim_whitespace=True)\n",
    "X_train.columns = features_labels\n",
    "y_train = pd.read_csv(y_train_file_path, header=None, delim_whitespace=True).squeeze('columns')\n",
    "y_train.name = 'target_class'\n",
    "\n",
    "\n",
    "# Load the test set from txt files\n",
    "X_test_file_path = 'human+activity+recognition+using+smartphones/UCI HAR Dataset/test/X_test.txt'\n",
    "y_test_file_path = 'human+activity+recognition+using+smartphones/UCI HAR Dataset/test/y_test.txt'\n",
    "X_test = pd.read_csv(X_test_file_path, header=None, delim_whitespace=True)\n",
    "X_test.columns = features_labels\n",
    "y_test = pd.read_csv(y_test_file_path, header=None, delim_whitespace=True).squeeze(\"columns\")\n",
    "y_test.name = 'target_class'\n",
    "\n",
    "\n",
    "# creation of a report dataframe\n",
    "report_series = list()\n",
    "timings_series = list()"
   ]
  },
  {
   "cell_type": "code",
   "execution_count": 3,
   "metadata": {},
   "outputs": [
    {
     "data": {
      "text/html": [
       "<div>\n",
       "<style scoped>\n",
       "    .dataframe tbody tr th:only-of-type {\n",
       "        vertical-align: middle;\n",
       "    }\n",
       "\n",
       "    .dataframe tbody tr th {\n",
       "        vertical-align: top;\n",
       "    }\n",
       "\n",
       "    .dataframe thead th {\n",
       "        text-align: right;\n",
       "    }\n",
       "</style>\n",
       "<table border=\"1\" class=\"dataframe\">\n",
       "  <thead>\n",
       "    <tr style=\"text-align: right;\">\n",
       "      <th></th>\n",
       "      <th>activity_label</th>\n",
       "      <th>counts</th>\n",
       "    </tr>\n",
       "  </thead>\n",
       "  <tbody>\n",
       "    <tr>\n",
       "      <th>1</th>\n",
       "      <td>WALKING</td>\n",
       "      <td>1226</td>\n",
       "    </tr>\n",
       "    <tr>\n",
       "      <th>2</th>\n",
       "      <td>WALKING_UPSTAIRS</td>\n",
       "      <td>1073</td>\n",
       "    </tr>\n",
       "    <tr>\n",
       "      <th>3</th>\n",
       "      <td>WALKING_DOWNSTAIRS</td>\n",
       "      <td>986</td>\n",
       "    </tr>\n",
       "    <tr>\n",
       "      <th>4</th>\n",
       "      <td>SITTING</td>\n",
       "      <td>1286</td>\n",
       "    </tr>\n",
       "    <tr>\n",
       "      <th>5</th>\n",
       "      <td>STANDING</td>\n",
       "      <td>1374</td>\n",
       "    </tr>\n",
       "    <tr>\n",
       "      <th>6</th>\n",
       "      <td>LAYING</td>\n",
       "      <td>1407</td>\n",
       "    </tr>\n",
       "  </tbody>\n",
       "</table>\n",
       "</div>"
      ],
      "text/plain": [
       "       activity_label  counts\n",
       "1             WALKING    1226\n",
       "2    WALKING_UPSTAIRS    1073\n",
       "3  WALKING_DOWNSTAIRS     986\n",
       "4             SITTING    1286\n",
       "5            STANDING    1374\n",
       "6              LAYING    1407"
      ]
     },
     "execution_count": 3,
     "metadata": {},
     "output_type": "execute_result"
    }
   ],
   "source": [
    "# counts in each class \n",
    "pd.concat([pd.DataFrame(target_class_labels, columns=['activity_label'], index=range(1,7)),\n",
    "           y_train.value_counts().sort_index()], axis=1).rename(columns={'target_class':'counts'})"
   ]
  },
  {
   "cell_type": "code",
   "execution_count": 4,
   "metadata": {},
   "outputs": [
    {
     "data": {
      "text/plain": [
       "Index([], dtype='object')"
      ]
     },
     "execution_count": 4,
     "metadata": {},
     "output_type": "execute_result"
    }
   ],
   "source": [
    "# checking for missing values\n",
    "X_train.columns[X_train[X_train.isna()].any()]"
   ]
  },
  {
   "cell_type": "code",
   "execution_count": 5,
   "metadata": {},
   "outputs": [
    {
     "data": {
      "text/plain": [
       "Text(0, 0.5, 'frequency')"
      ]
     },
     "execution_count": 5,
     "metadata": {},
     "output_type": "execute_result"
    },
    {
     "data": {
      "image/png": "[encoded data removed]",
      "text/plain": [
       "<Figure size 432x288 with 1 Axes>"
      ]
     },
     "metadata": {
      "needs_background": "light"
     },
     "output_type": "display_data"
    }
   ],
   "source": [
    "y_train.value_counts().sort_index().plot(kind='bar', color='grey', rot=0, title='Class Frequencies in Train Set', width=0.75)\n",
    "plt.xlabel('activity_class')\n",
    "plt.ylabel('frequency')\n"
   ]
  },
  {
   "cell_type": "code",
   "execution_count": 6,
   "metadata": {},
   "outputs": [],
   "source": [
    "# initialization of models\n",
    "models = [('svm_model', SVC(C=1, kernel='linear', gamma='auto'))]\n",
    "models_pca = [(model_name + '_pca', model) for model_name, model in deepcopy(models)]\n",
    "selectors_wrapping_models = [(model_name + \"_wrapping_seq\",\n",
    "                              SequentialFeatureSelector(estimator=model,\n",
    "                                                        direction='forward',\n",
    "                                                        n_features_to_select='auto',\n",
    "                                                        tol= 0.0003,\n",
    "                                                        scoring=make_scorer(balanced_accuracy_score),\n",
    "                                                        n_jobs=-1), \n",
    "                              model) for model_name, model in deepcopy(models)]\n",
    "selectors_embedding_models = [(model_name + \"_embedding_select\",\n",
    "                              SelectFromModel(model, threshold='median'), \n",
    "                              model) for model_name, model in deepcopy(models)]"
   ]
  },
  {
   "cell_type": "code",
   "execution_count": 7,
   "metadata": {},
   "outputs": [],
   "source": [
    "for model_name, model in models:\n",
    "    start_time_train = time()\n",
    "    model.fit(X_train, y_train)\n",
    "    end_time_train = time()\n",
    "    \n",
    "    start_time_test = time()\n",
    "    y_pred = model.predict(X=X_test)\n",
    "    end_time_test = time()\n",
    "    metrics = {\n",
    "        'accuracy': accuracy_score(y_true=y_test, y_pred=y_pred),\n",
    "        'balanced_accuracy': balanced_accuracy_score(y_true=y_test, y_pred=y_pred),\n",
    "        'f1_score': f1_score(y_true=y_test, y_pred=y_pred, average='macro'),\n",
    "        'precision': precision_score(y_true=y_test, y_pred=y_pred, average='macro'),\n",
    "        'training_time':end_time_train - start_time_train,\n",
    "        'predicting_time':end_time_test - start_time_test\n",
    "               }\n",
    "    report_series.append(pd.Series(data=metrics, name=model_name))\n",
    "    \n"
   ]
  },
  {
   "cell_type": "code",
   "execution_count": 8,
   "metadata": {},
   "outputs": [
    {
     "data": {
      "text/html": [
       "<div>\n",
       "<style scoped>\n",
       "    .dataframe tbody tr th:only-of-type {\n",
       "        vertical-align: middle;\n",
       "    }\n",
       "\n",
       "    .dataframe tbody tr th {\n",
       "        vertical-align: top;\n",
       "    }\n",
       "\n",
       "    .dataframe thead th {\n",
       "        text-align: right;\n",
       "    }\n",
       "</style>\n",
       "<table border=\"1\" class=\"dataframe\">\n",
       "  <thead>\n",
       "    <tr style=\"text-align: right;\">\n",
       "      <th></th>\n",
       "      <th>accuracy</th>\n",
       "      <th>balanced_accuracy</th>\n",
       "      <th>f1_score</th>\n",
       "      <th>precision</th>\n",
       "      <th>training_time</th>\n",
       "      <th>predicting_time</th>\n",
       "    </tr>\n",
       "  </thead>\n",
       "  <tbody>\n",
       "    <tr>\n",
       "      <th>svm_model</th>\n",
       "      <td>0.964031</td>\n",
       "      <td>0.963589</td>\n",
       "      <td>0.964198</td>\n",
       "      <td>0.965895</td>\n",
       "      <td>0.399614</td>\n",
       "      <td>0.243624</td>\n",
       "    </tr>\n",
       "  </tbody>\n",
       "</table>\n",
       "</div>"
      ],
      "text/plain": [
       "           accuracy  balanced_accuracy  f1_score  precision  training_time  \\\n",
       "svm_model  0.964031           0.963589  0.964198   0.965895       0.399614   \n",
       "\n",
       "           predicting_time  \n",
       "svm_model         0.243624  "
      ]
     },
     "execution_count": 8,
     "metadata": {},
     "output_type": "execute_result"
    }
   ],
   "source": [
    "pd.DataFrame(report_series)"
   ]
  },
  {
   "cell_type": "code",
   "execution_count": 9,
   "metadata": {},
   "outputs": [],
   "source": [
    "# Create a PCA object\n",
    "pca = PCA()\n",
    "\n",
    "# Fit the PCA object on the data\n",
    "pca.fit(X_train)\n",
    "\n",
    "# Get the explained variance ratios\n",
    "explained_variance_ratio = pca.explained_variance_ratio_\n",
    "\n",
    "# Create a cumulative sum of the explained variance ratios\n",
    "cumulative_explained_variance = np.cumsum(explained_variance_ratio)"
   ]
  },
  {
   "cell_type": "code",
   "execution_count": 10,
   "metadata": {},
   "outputs": [
    {
     "data": {
      "image/png": "[encoded data removed]",
      "text/plain": [
       "<Figure size 576x432 with 1 Axes>"
      ]
     },
     "metadata": {
      "needs_background": "light"
     },
     "output_type": "display_data"
    }
   ],
   "source": [
    "# Extract the values from the dictionary\n",
    "n_values = list(range(1, X_train.shape[1] + 1))\n",
    "explained_variance_ratios = list(cumulative_explained_variance)\n",
    "\n",
    "# Plotting the cumulative explained variance ratio\n",
    "plt.figure(figsize=(8, 6))\n",
    "plt.plot(n_values, explained_variance_ratios, marker='o', linestyle='-')\n",
    "plt.xlabel('Number of Principal Components')\n",
    "plt.ylabel('Cumulative Explained Variance Ratio')\n",
    "\n",
    "plt.title('Explained Variance Ratio vs. Number of Principal Components')\n",
    "plt.grid(True)\n",
    "plt.show()"
   ]
  },
  {
   "cell_type": "code",
   "execution_count": 11,
   "metadata": {},
   "outputs": [
    {
     "name": "stdout",
     "output_type": "stream",
     "text": [
      "Original data shape: (7352, 561)\n",
      "Transformed data shape: (7352, 34)\n",
      "Explained variance ratio: [0.6255444  0.04913023 0.04121467 0.01874956 0.0169486  0.01272069\n",
      " 0.01176685 0.01068973 0.0096938  0.00858018 0.00762302 0.00672446\n",
      " 0.0057942  0.00557881 0.00498926 0.00474938 0.004672   0.00431618\n",
      " 0.00425715 0.00410395 0.00394002 0.00375309 0.00352427 0.00339359\n",
      " 0.00332139 0.00319429 0.00301779 0.00291783 0.0028957  0.00281928\n",
      " 0.00276704 0.00263395 0.00255307 0.00235866]\n",
      "Sum of ratio is: 0.9009370881393087\n",
      "------------------------------------------\n"
     ]
    }
   ],
   "source": [
    "# Calculate the cumulative sum of the explained variance ratios\n",
    "cumulative_explained_variance = np.cumsum(explained_variance_ratio)\n",
    "\n",
    "# Find the number of components needed to explain more than 0.9 variance\n",
    "n_components = np.where(cumulative_explained_variance > 0.9)[0][0] + 1\n",
    "\n",
    "# initialize the prefered pca\n",
    "\n",
    "pca_selector = PCA(n_components=n_components)\n",
    "\n",
    "# Transform the data into the new reduced dimensional space\n",
    "transformed_data = pca_selector.fit_transform(X_train)\n",
    "\n",
    "\n",
    "\n",
    "print(\"Original data shape:\", X_train.shape)\n",
    "print(\"Transformed data shape:\", transformed_data.shape)\n",
    "print(\"Explained variance ratio:\", explained_variance_ratio[:n_components])\n",
    "print(\"Sum of ratio is:\", cumulative_explained_variance[n_components-1])\n",
    "print('------------------------------------------')\n",
    "    "
   ]
  },
  {
   "cell_type": "code",
   "execution_count": 12,
   "metadata": {},
   "outputs": [],
   "source": [
    "# deployment and training with transormed data\n",
    "for model_name, model_pca in models_pca:\n",
    "    start_time_train = time()\n",
    "    model_pca.fit(transformed_data, y_train)\n",
    "    end_time_train = time()\n",
    "    x_test_tranformed = pca_selector.transform(X=X_test)\n",
    "    \n",
    "    start_time_test = time()\n",
    "    y_pred = model_pca.predict(x_test_tranformed)\n",
    "    end_time_test = time()\n",
    "    \n",
    "    metrics = {\n",
    "        'accuracy': accuracy_score(y_true=y_test, y_pred=y_pred),\n",
    "        'balanced_accuracy': balanced_accuracy_score(y_true=y_test, y_pred=y_pred),\n",
    "        'f1_score': f1_score(y_true=y_test, y_pred=y_pred, average='macro'),\n",
    "        'precision': precision_score(y_true=y_test, y_pred=y_pred, average='macro'),\n",
    "        'training_time':end_time_train - start_time_train,\n",
    "        'predicting_time':end_time_test - start_time_test\n",
    "               }\n",
    "    report_series.append(pd.Series(data=metrics, name=model_name))"
   ]
  },
  {
   "cell_type": "code",
   "execution_count": 13,
   "metadata": {},
   "outputs": [
    {
     "data": {
      "text/html": [
       "<div>\n",
       "<style scoped>\n",
       "    .dataframe tbody tr th:only-of-type {\n",
       "        vertical-align: middle;\n",
       "    }\n",
       "\n",
       "    .dataframe tbody tr th {\n",
       "        vertical-align: top;\n",
       "    }\n",
       "\n",
       "    .dataframe thead th {\n",
       "        text-align: right;\n",
       "    }\n",
       "</style>\n",
       "<table border=\"1\" class=\"dataframe\">\n",
       "  <thead>\n",
       "    <tr style=\"text-align: right;\">\n",
       "      <th></th>\n",
       "      <th>accuracy</th>\n",
       "      <th>balanced_accuracy</th>\n",
       "      <th>f1_score</th>\n",
       "      <th>precision</th>\n",
       "      <th>training_time</th>\n",
       "      <th>predicting_time</th>\n",
       "    </tr>\n",
       "  </thead>\n",
       "  <tbody>\n",
       "    <tr>\n",
       "      <th>svm_model</th>\n",
       "      <td>0.964031</td>\n",
       "      <td>0.963589</td>\n",
       "      <td>0.964198</td>\n",
       "      <td>0.965895</td>\n",
       "      <td>0.399614</td>\n",
       "      <td>0.243624</td>\n",
       "    </tr>\n",
       "    <tr>\n",
       "      <th>svm_model_pca</th>\n",
       "      <td>0.907363</td>\n",
       "      <td>0.904144</td>\n",
       "      <td>0.904770</td>\n",
       "      <td>0.906374</td>\n",
       "      <td>0.139555</td>\n",
       "      <td>0.060524</td>\n",
       "    </tr>\n",
       "  </tbody>\n",
       "</table>\n",
       "</div>"
      ],
      "text/plain": [
       "               accuracy  balanced_accuracy  f1_score  precision  \\\n",
       "svm_model      0.964031           0.963589  0.964198   0.965895   \n",
       "svm_model_pca  0.907363           0.904144  0.904770   0.906374   \n",
       "\n",
       "               training_time  predicting_time  \n",
       "svm_model           0.399614         0.243624  \n",
       "svm_model_pca       0.139555         0.060524  "
      ]
     },
     "execution_count": 13,
     "metadata": {},
     "output_type": "execute_result"
    }
   ],
   "source": [
    "pd.DataFrame(report_series)"
   ]
  },
  {
   "cell_type": "code",
   "execution_count": 14,
   "metadata": {},
   "outputs": [],
   "source": [
    "for model_name, selector, model_wrapping in selectors_wrapping_models:\n",
    "    transformed_x_train = selector.fit_transform(X_train, y_train)\n",
    "    transformed_x_test = selector.transform(X_test)\n",
    "\n",
    "    start_time_train = time()\n",
    "    model_wrapping.fit(transformed_x_train, y_train)\n",
    "    end_time_train = time()\n",
    "    \n",
    "    \n",
    "    start_time_test = time()\n",
    "    y_pred = model_wrapping.predict(transformed_x_test)\n",
    "    end_time_test = time()\n",
    "    \n",
    "    metrics = {\n",
    "        'accuracy': accuracy_score(y_true=y_test, y_pred=y_pred),\n",
    "        'balanced_accuracy': balanced_accuracy_score(y_true=y_test, y_pred=y_pred),\n",
    "        'f1_score': f1_score(y_true=y_test, y_pred=y_pred, average='macro'),\n",
    "        'precision': precision_score(y_true=y_test, y_pred=y_pred, average='macro'),\n",
    "        'training_time':end_time_train - start_time_train,\n",
    "        'predicting_time':end_time_test - start_time_test\n",
    "               }\n",
    "    report_series.append(pd.Series(data=metrics, name=model_name))"
   ]
  },
  {
   "cell_type": "code",
   "execution_count": 15,
   "metadata": {},
   "outputs": [
    {
     "data": {
      "text/html": [
       "<div>\n",
       "<style scoped>\n",
       "    .dataframe tbody tr th:only-of-type {\n",
       "        vertical-align: middle;\n",
       "    }\n",
       "\n",
       "    .dataframe tbody tr th {\n",
       "        vertical-align: top;\n",
       "    }\n",
       "\n",
       "    .dataframe thead th {\n",
       "        text-align: right;\n",
       "    }\n",
       "</style>\n",
       "<table border=\"1\" class=\"dataframe\">\n",
       "  <thead>\n",
       "    <tr style=\"text-align: right;\">\n",
       "      <th></th>\n",
       "      <th>accuracy</th>\n",
       "      <th>balanced_accuracy</th>\n",
       "      <th>f1_score</th>\n",
       "      <th>precision</th>\n",
       "      <th>training_time</th>\n",
       "      <th>predicting_time</th>\n",
       "    </tr>\n",
       "  </thead>\n",
       "  <tbody>\n",
       "    <tr>\n",
       "      <th>svm_model</th>\n",
       "      <td>0.964031</td>\n",
       "      <td>0.963589</td>\n",
       "      <td>0.964198</td>\n",
       "      <td>0.965895</td>\n",
       "      <td>0.399614</td>\n",
       "      <td>0.243624</td>\n",
       "    </tr>\n",
       "    <tr>\n",
       "      <th>svm_model_pca</th>\n",
       "      <td>0.907363</td>\n",
       "      <td>0.904144</td>\n",
       "      <td>0.904770</td>\n",
       "      <td>0.906374</td>\n",
       "      <td>0.139555</td>\n",
       "      <td>0.060524</td>\n",
       "    </tr>\n",
       "    <tr>\n",
       "      <th>svm_model_wrapping_seq</th>\n",
       "      <td>0.929420</td>\n",
       "      <td>0.927174</td>\n",
       "      <td>0.928259</td>\n",
       "      <td>0.932157</td>\n",
       "      <td>0.080174</td>\n",
       "      <td>0.059594</td>\n",
       "    </tr>\n",
       "  </tbody>\n",
       "</table>\n",
       "</div>"
      ],
      "text/plain": [
       "                        accuracy  balanced_accuracy  f1_score  precision  \\\n",
       "svm_model               0.964031           0.963589  0.964198   0.965895   \n",
       "svm_model_pca           0.907363           0.904144  0.904770   0.906374   \n",
       "svm_model_wrapping_seq  0.929420           0.927174  0.928259   0.932157   \n",
       "\n",
       "                        training_time  predicting_time  \n",
       "svm_model                    0.399614         0.243624  \n",
       "svm_model_pca                0.139555         0.060524  \n",
       "svm_model_wrapping_seq       0.080174         0.059594  "
      ]
     },
     "execution_count": 15,
     "metadata": {},
     "output_type": "execute_result"
    }
   ],
   "source": [
    "pd.DataFrame(report_series)"
   ]
  },
  {
   "cell_type": "code",
   "execution_count": 16,
   "metadata": {},
   "outputs": [
    {
     "name": "stdout",
     "output_type": "stream",
     "text": [
      "Selected 24 features for svm_model_wrapping_seq:\n",
      "Index(['tBodyAcc-arCoeff()-Y,1', 'tBodyAcc-correlation()-X,Y',\n",
      "       'tGravityAcc-min()-X', 'tGravityAcc-arCoeff()-X,2',\n",
      "       'tGravityAcc-arCoeff()-Y,1', 'tGravityAcc-arCoeff()-Y,2',\n",
      "       'tBodyAccJerk-entropy()-Y', 'tBodyAccJerk-arCoeff()-Z,3',\n",
      "       'tBodyAccJerk-correlation()-X,Y', 'tBodyGyro-entropy()-X',\n",
      "       'tBodyGyro-arCoeff()-X,1', 'tBodyGyro-arCoeff()-X,2',\n",
      "       'tBodyGyro-arCoeff()-Y,4', 'tBodyGyroJerk-entropy()-X',\n",
      "       'tBodyGyroJerk-arCoeff()-X,1', 'tBodyGyroJerk-correlation()-X,Z',\n",
      "       'tBodyAccMag-mean()', 'tBodyGyroJerkMag-entropy()', 'fBodyAcc-max()-X',\n",
      "       'fBodyAcc-maxInds-Y', 'fBodyAccJerk-iqr()-Z', 'fBodyGyro-max()-Z',\n",
      "       'fBodyAccMag-energy()', 'angle(Y,gravityMean)'],\n",
      "      dtype='object')\n"
     ]
    }
   ],
   "source": [
    "for model_name, selector, model_wrapping in selectors_wrapping_models:\n",
    "    print(f\"Selected {X_test.columns[selector.get_support()].shape[0]} features for {model_name}:\")\n",
    "    print(X_test.columns[selector.get_support()])\n",
    "    "
   ]
  },
  {
   "cell_type": "code",
   "execution_count": 17,
   "metadata": {},
   "outputs": [],
   "source": [
    "for model_name, selector, model_wrapping in selectors_embedding_models:\n",
    "    transformed_x_train = selector.fit_transform(X_train, y_train)\n",
    "    transformed_x_test = selector.transform(X_test)\n",
    "\n",
    "    start_time_train = time()\n",
    "    model_wrapping.fit(transformed_x_train, y_train)\n",
    "    end_time_train = time()\n",
    "    \n",
    "    \n",
    "    start_time_test = time()\n",
    "    y_pred = model_wrapping.predict(transformed_x_test)\n",
    "    end_time_test = time()\n",
    "    \n",
    "    metrics = {\n",
    "        'accuracy': accuracy_score(y_true=y_test, y_pred=y_pred),\n",
    "        'balanced_accuracy': balanced_accuracy_score(y_true=y_test, y_pred=y_pred),\n",
    "        'f1_score': f1_score(y_true=y_test, y_pred=y_pred, average='macro'),\n",
    "        'precision': precision_score(y_true=y_test, y_pred=y_pred, average='macro'),\n",
    "        'training_time':end_time_train - start_time_train,\n",
    "        'predicting_time':end_time_test - start_time_test\n",
    "               }\n",
    "    report_series.append(pd.Series(data=metrics, name=model_name))"
   ]
  },
  {
   "cell_type": "code",
   "execution_count": 18,
   "metadata": {},
   "outputs": [
    {
     "data": {
      "text/html": [
       "<div>\n",
       "<style scoped>\n",
       "    .dataframe tbody tr th:only-of-type {\n",
       "        vertical-align: middle;\n",
       "    }\n",
       "\n",
       "    .dataframe tbody tr th {\n",
       "        vertical-align: top;\n",
       "    }\n",
       "\n",
       "    .dataframe thead th {\n",
       "        text-align: right;\n",
       "    }\n",
       "</style>\n",
       "<table border=\"1\" class=\"dataframe\">\n",
       "  <thead>\n",
       "    <tr style=\"text-align: right;\">\n",
       "      <th></th>\n",
       "      <th>accuracy</th>\n",
       "      <th>balanced_accuracy</th>\n",
       "      <th>f1_score</th>\n",
       "      <th>precision</th>\n",
       "      <th>training_time</th>\n",
       "      <th>predicting_time</th>\n",
       "    </tr>\n",
       "  </thead>\n",
       "  <tbody>\n",
       "    <tr>\n",
       "      <th>svm_model</th>\n",
       "      <td>0.964031</td>\n",
       "      <td>0.963589</td>\n",
       "      <td>0.964198</td>\n",
       "      <td>0.965895</td>\n",
       "      <td>0.399614</td>\n",
       "      <td>0.243624</td>\n",
       "    </tr>\n",
       "    <tr>\n",
       "      <th>svm_model_pca</th>\n",
       "      <td>0.907363</td>\n",
       "      <td>0.904144</td>\n",
       "      <td>0.904770</td>\n",
       "      <td>0.906374</td>\n",
       "      <td>0.139555</td>\n",
       "      <td>0.060524</td>\n",
       "    </tr>\n",
       "    <tr>\n",
       "      <th>svm_model_wrapping_seq</th>\n",
       "      <td>0.929420</td>\n",
       "      <td>0.927174</td>\n",
       "      <td>0.928259</td>\n",
       "      <td>0.932157</td>\n",
       "      <td>0.080174</td>\n",
       "      <td>0.059594</td>\n",
       "    </tr>\n",
       "    <tr>\n",
       "      <th>svm_model_embedding_select</th>\n",
       "      <td>0.964710</td>\n",
       "      <td>0.964113</td>\n",
       "      <td>0.964785</td>\n",
       "      <td>0.966628</td>\n",
       "      <td>0.213844</td>\n",
       "      <td>0.124033</td>\n",
       "    </tr>\n",
       "  </tbody>\n",
       "</table>\n",
       "</div>"
      ],
      "text/plain": [
       "                            accuracy  balanced_accuracy  f1_score  precision  \\\n",
       "svm_model                   0.964031           0.963589  0.964198   0.965895   \n",
       "svm_model_pca               0.907363           0.904144  0.904770   0.906374   \n",
       "svm_model_wrapping_seq      0.929420           0.927174  0.928259   0.932157   \n",
       "svm_model_embedding_select  0.964710           0.964113  0.964785   0.966628   \n",
       "\n",
       "                            training_time  predicting_time  \n",
       "svm_model                        0.399614         0.243624  \n",
       "svm_model_pca                    0.139555         0.060524  \n",
       "svm_model_wrapping_seq           0.080174         0.059594  \n",
       "svm_model_embedding_select       0.213844         0.124033  "
      ]
     },
     "execution_count": 18,
     "metadata": {},
     "output_type": "execute_result"
    }
   ],
   "source": [
    "pd.DataFrame(report_series)"
   ]
  },
  {
   "cell_type": "code",
   "execution_count": 19,
   "metadata": {},
   "outputs": [
    {
     "name": "stdout",
     "output_type": "stream",
     "text": [
      "Selected 281 features for svm_model_embedding_select:\n",
      "Index(['tBodyAcc-mean()-Z', 'tBodyAcc-std()-X', 'tBodyAcc-std()-Y',\n",
      "       'tBodyAcc-mad()-X', 'tBodyAcc-max()-X', 'tBodyAcc-max()-Y',\n",
      "       'tBodyAcc-max()-Z', 'tBodyAcc-min()-X', 'tBodyAcc-min()-Y',\n",
      "       'tBodyAcc-min()-Z',\n",
      "       ...\n",
      "       'fBodyBodyGyroJerkMag-entropy()', 'fBodyBodyGyroJerkMag-maxInds',\n",
      "       'fBodyBodyGyroJerkMag-meanFreq()', 'fBodyBodyGyroJerkMag-skewness()',\n",
      "       'fBodyBodyGyroJerkMag-kurtosis()', 'angle(tBodyGyroMean,gravityMean)',\n",
      "       'angle(tBodyGyroJerkMean,gravityMean)', 'angle(X,gravityMean)',\n",
      "       'angle(Y,gravityMean)', 'angle(Z,gravityMean)'],\n",
      "      dtype='object', length=281)\n"
     ]
    }
   ],
   "source": [
    "for model_name, selector, model_wrapping in selectors_embedding_models:\n",
    "    print(f\"Selected {X_test.columns[selector.get_support()].shape[0]} features for {model_name}:\")\n",
    "    print(X_test.columns[selector.get_support()])"
   ]
  }
 ],
 "metadata": {
  "kernelspec": {
   "display_name": "Python 3",
   "language": "python",
   "name": "python3"
  },
  "language_info": {
   "codemirror_mode": {
    "name": "ipython",
    "version": 3
   },
   "file_extension": ".py",
   "mimetype": "text/x-python",
   "name": "python",
   "nbconvert_exporter": "python",
   "pygments_lexer": "ipython3",
   "version": "3.9.12"
  }
 },
 "nbformat": 4,
 "nbformat_minor": 2
}
